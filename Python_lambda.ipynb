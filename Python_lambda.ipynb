{
  "cells": [
    {
      "cell_type": "markdown",
      "metadata": {
        "id": "EWBK1aT_E1-t"
      },
      "source": [
        "파이썬 람다함수"
      ]
    },
    {
      "cell_type": "markdown",
      "metadata": {
        "id": "UrMdnGVnHGqI"
      },
      "source": [
        "### 일반 람다 함수들"
      ]
    },
    {
      "cell_type": "code",
      "execution_count": 1,
      "metadata": {
        "colab": {
          "base_uri": "https://localhost:8080/"
        },
        "id": "q493MUR_E0Q5",
        "outputId": "407265fa-9ae9-416d-c9a2-35a97045a908"
      },
      "outputs": [
        {
          "name": "stdout",
          "output_type": "stream",
          "text": [
            "5\n"
          ]
        }
      ],
      "source": [
        "cast_to_int = lambda x: int(x)\n",
        "\n",
        "print(cast_to_int(\"5\"))"
      ]
    },
    {
      "cell_type": "code",
      "execution_count": 3,
      "metadata": {
        "colab": {
          "base_uri": "https://localhost:8080/"
        },
        "id": "gekOwr6BFFJ2",
        "outputId": "c60515cd-2e92-4f62-d660-5777b50d60b2"
      },
      "outputs": [
        {
          "name": "stdout",
          "output_type": "stream",
          "text": [
            "100\n"
          ]
        }
      ],
      "source": [
        "square = lambda x: x*x\n",
        "\n",
        "print(square(10))"
      ]
    },
    {
      "cell_type": "code",
      "execution_count": 2,
      "metadata": {
        "colab": {
          "base_uri": "https://localhost:8080/"
        },
        "id": "GZH5jUaIFMxz",
        "outputId": "205838e5-fc70-4817-d549-54dc15988512"
      },
      "outputs": [
        {
          "name": "stdout",
          "output_type": "stream",
          "text": [
            "[4, 6, 8, 12]\n"
          ]
        }
      ],
      "source": [
        "# filter function is applied to each element of the iterable and\n",
        "# if it returns True, the element is selected by the filter() function.\n",
        "my_list = [1, 5, 4, 6, 8, 11, 3, 12]\n",
        "\n",
        "# even number filter\n",
        "new_list = list(filter(lambda x: (x%2 == 0), my_list))\n",
        "print(new_list)"
      ]
    },
    {
      "cell_type": "code",
      "execution_count": 4,
      "metadata": {
        "colab": {
          "base_uri": "https://localhost:8080/"
        },
        "id": "DuUeV36EF66q",
        "outputId": "a40abe2b-dc10-412c-c8dd-6712493a5d9b"
      },
      "outputs": [
        {
          "name": "stdout",
          "output_type": "stream",
          "text": [
            "[1, 25, 16, 36, 64, 121, 9, 144]\n"
          ]
        }
      ],
      "source": [
        "# 리스트의 값을 제곱해주기\n",
        "my_list = [1, 5, 4, 6, 8, 11, 3, 12]\n",
        "\n",
        "new_list = list(map(lambda x: x * x , my_list))\n",
        "\n",
        "print(new_list)"
      ]
    },
    {
      "cell_type": "markdown",
      "metadata": {
        "id": "7GKCENaGHLzm"
      },
      "source": [
        "### 판다스에서 람다함수"
      ]
    },
    {
      "cell_type": "code",
      "execution_count": 5,
      "metadata": {
        "id": "5VrIQcR3F8W1"
      },
      "outputs": [],
      "source": [
        "import pandas as pd\n",
        "\n",
        "# 2차원 배열\n",
        "my_list = [[1.5, 2.5, 10.0], [2.0, 4.5, 5.0], [2.5, 5.2, 8.0],\n",
        "            [4.5, 5.8, 4.8], [4.0, 6.3, 70], [4.1, 6.4, 9.0],\n",
        "            [5.1, 2.3, 11.1]]\n",
        "\n",
        "# 데이터 프레임 생성\n",
        "df = pd.DataFrame(\n",
        "    my_list,\n",
        "    columns=['f1', 'f2', 'f3'],\n",
        "    index=['a', 'b', 'c', 'd', 'e', 'f', 'g'])"
      ]
    },
    {
      "cell_type": "code",
      "execution_count": 6,
      "metadata": {
        "colab": {
          "base_uri": "https://localhost:8080/",
          "height": 269
        },
        "id": "1KuI5Rg7JqUI",
        "outputId": "7fba5540-dd7e-4d5c-84ac-b05ae74cc962"
      },
      "outputs": [
        {
          "data": {
            "text/html": [
              "<div>\n",
              "<style scoped>\n",
              "    .dataframe tbody tr th:only-of-type {\n",
              "        vertical-align: middle;\n",
              "    }\n",
              "\n",
              "    .dataframe tbody tr th {\n",
              "        vertical-align: top;\n",
              "    }\n",
              "\n",
              "    .dataframe thead th {\n",
              "        text-align: right;\n",
              "    }\n",
              "</style>\n",
              "<table border=\"1\" class=\"dataframe\">\n",
              "  <thead>\n",
              "    <tr style=\"text-align: right;\">\n",
              "      <th></th>\n",
              "      <th>f1</th>\n",
              "      <th>f2</th>\n",
              "      <th>f3</th>\n",
              "    </tr>\n",
              "  </thead>\n",
              "  <tbody>\n",
              "    <tr>\n",
              "      <th>a</th>\n",
              "      <td>1.5</td>\n",
              "      <td>2.5</td>\n",
              "      <td>10.0</td>\n",
              "    </tr>\n",
              "    <tr>\n",
              "      <th>b</th>\n",
              "      <td>2.0</td>\n",
              "      <td>4.5</td>\n",
              "      <td>5.0</td>\n",
              "    </tr>\n",
              "    <tr>\n",
              "      <th>c</th>\n",
              "      <td>2.5</td>\n",
              "      <td>5.2</td>\n",
              "      <td>8.0</td>\n",
              "    </tr>\n",
              "    <tr>\n",
              "      <th>d</th>\n",
              "      <td>4.5</td>\n",
              "      <td>5.8</td>\n",
              "      <td>4.8</td>\n",
              "    </tr>\n",
              "    <tr>\n",
              "      <th>e</th>\n",
              "      <td>4.0</td>\n",
              "      <td>6.3</td>\n",
              "      <td>70.0</td>\n",
              "    </tr>\n",
              "    <tr>\n",
              "      <th>f</th>\n",
              "      <td>4.1</td>\n",
              "      <td>6.4</td>\n",
              "      <td>9.0</td>\n",
              "    </tr>\n",
              "    <tr>\n",
              "      <th>g</th>\n",
              "      <td>5.1</td>\n",
              "      <td>2.3</td>\n",
              "      <td>11.1</td>\n",
              "    </tr>\n",
              "  </tbody>\n",
              "</table>\n",
              "</div>"
            ],
            "text/plain": [
              "    f1   f2    f3\n",
              "a  1.5  2.5  10.0\n",
              "b  2.0  4.5   5.0\n",
              "c  2.5  5.2   8.0\n",
              "d  4.5  5.8   4.8\n",
              "e  4.0  6.3  70.0\n",
              "f  4.1  6.4   9.0\n",
              "g  5.1  2.3  11.1"
            ]
          },
          "execution_count": 6,
          "metadata": {},
          "output_type": "execute_result"
        }
      ],
      "source": [
        "df.head(10)"
      ]
    },
    {
      "cell_type": "code",
      "execution_count": 7,
      "metadata": {
        "colab": {
          "base_uri": "https://localhost:8080/",
          "height": 269
        },
        "id": "mpIkd0YfJbuP",
        "outputId": "3fd0cbba-ce9e-41ee-b502-8ff8120e33d3"
      },
      "outputs": [
        {
          "data": {
            "text/html": [
              "<div>\n",
              "<style scoped>\n",
              "    .dataframe tbody tr th:only-of-type {\n",
              "        vertical-align: middle;\n",
              "    }\n",
              "\n",
              "    .dataframe tbody tr th {\n",
              "        vertical-align: top;\n",
              "    }\n",
              "\n",
              "    .dataframe thead th {\n",
              "        text-align: right;\n",
              "    }\n",
              "</style>\n",
              "<table border=\"1\" class=\"dataframe\">\n",
              "  <thead>\n",
              "    <tr style=\"text-align: right;\">\n",
              "      <th></th>\n",
              "      <th>f1</th>\n",
              "      <th>f2</th>\n",
              "      <th>f3</th>\n",
              "    </tr>\n",
              "  </thead>\n",
              "  <tbody>\n",
              "    <tr>\n",
              "      <th>a</th>\n",
              "      <td>2.25</td>\n",
              "      <td>6.25</td>\n",
              "      <td>100.0</td>\n",
              "    </tr>\n",
              "    <tr>\n",
              "      <th>b</th>\n",
              "      <td>4.00</td>\n",
              "      <td>20.25</td>\n",
              "      <td>25.0</td>\n",
              "    </tr>\n",
              "    <tr>\n",
              "      <th>c</th>\n",
              "      <td>2.50</td>\n",
              "      <td>5.20</td>\n",
              "      <td>8.0</td>\n",
              "    </tr>\n",
              "    <tr>\n",
              "      <th>d</th>\n",
              "      <td>4.50</td>\n",
              "      <td>5.80</td>\n",
              "      <td>4.8</td>\n",
              "    </tr>\n",
              "    <tr>\n",
              "      <th>e</th>\n",
              "      <td>4.00</td>\n",
              "      <td>6.30</td>\n",
              "      <td>70.0</td>\n",
              "    </tr>\n",
              "    <tr>\n",
              "      <th>f</th>\n",
              "      <td>4.10</td>\n",
              "      <td>6.40</td>\n",
              "      <td>9.0</td>\n",
              "    </tr>\n",
              "    <tr>\n",
              "      <th>g</th>\n",
              "      <td>5.10</td>\n",
              "      <td>2.30</td>\n",
              "      <td>11.1</td>\n",
              "    </tr>\n",
              "  </tbody>\n",
              "</table>\n",
              "</div>"
            ],
            "text/plain": [
              "     f1     f2     f3\n",
              "a  2.25   6.25  100.0\n",
              "b  4.00  20.25   25.0\n",
              "c  2.50   5.20    8.0\n",
              "d  4.50   5.80    4.8\n",
              "e  4.00   6.30   70.0\n",
              "f  4.10   6.40    9.0\n",
              "g  5.10   2.30   11.1"
            ]
          },
          "execution_count": 7,
          "metadata": {},
          "output_type": "execute_result"
        }
      ],
      "source": [
        "# 인덱스의 이름이 a와 b인 경우에는 값을 제곱해보기\n",
        "# axis = 1 -> row, 0 -> column\n",
        "df = df.apply(lambda x: x*x if x.name in ['a', 'b'] else x, axis=1)\n",
        "\n",
        "df"
      ]
    },
    {
      "cell_type": "code",
      "execution_count": 8,
      "metadata": {
        "colab": {
          "base_uri": "https://localhost:8080/",
          "height": 269
        },
        "id": "csgm8NItJdth",
        "outputId": "bb79a45d-16ed-4921-8f3a-94eefea92213"
      },
      "outputs": [
        {
          "data": {
            "text/html": [
              "<div>\n",
              "<style scoped>\n",
              "    .dataframe tbody tr th:only-of-type {\n",
              "        vertical-align: middle;\n",
              "    }\n",
              "\n",
              "    .dataframe tbody tr th {\n",
              "        vertical-align: top;\n",
              "    }\n",
              "\n",
              "    .dataframe thead th {\n",
              "        text-align: right;\n",
              "    }\n",
              "</style>\n",
              "<table border=\"1\" class=\"dataframe\">\n",
              "  <thead>\n",
              "    <tr style=\"text-align: right;\">\n",
              "      <th></th>\n",
              "      <th>f1</th>\n",
              "      <th>f2</th>\n",
              "      <th>f3</th>\n",
              "      <th>Product</th>\n",
              "    </tr>\n",
              "  </thead>\n",
              "  <tbody>\n",
              "    <tr>\n",
              "      <th>a</th>\n",
              "      <td>2.25</td>\n",
              "      <td>6.25</td>\n",
              "      <td>100.0</td>\n",
              "      <td>1406.250</td>\n",
              "    </tr>\n",
              "    <tr>\n",
              "      <th>b</th>\n",
              "      <td>4.00</td>\n",
              "      <td>20.25</td>\n",
              "      <td>25.0</td>\n",
              "      <td>2025.000</td>\n",
              "    </tr>\n",
              "    <tr>\n",
              "      <th>c</th>\n",
              "      <td>2.50</td>\n",
              "      <td>5.20</td>\n",
              "      <td>8.0</td>\n",
              "      <td>104.000</td>\n",
              "    </tr>\n",
              "    <tr>\n",
              "      <th>d</th>\n",
              "      <td>4.50</td>\n",
              "      <td>5.80</td>\n",
              "      <td>4.8</td>\n",
              "      <td>125.280</td>\n",
              "    </tr>\n",
              "    <tr>\n",
              "      <th>e</th>\n",
              "      <td>4.00</td>\n",
              "      <td>6.30</td>\n",
              "      <td>70.0</td>\n",
              "      <td>1764.000</td>\n",
              "    </tr>\n",
              "    <tr>\n",
              "      <th>f</th>\n",
              "      <td>4.10</td>\n",
              "      <td>6.40</td>\n",
              "      <td>9.0</td>\n",
              "      <td>236.160</td>\n",
              "    </tr>\n",
              "    <tr>\n",
              "      <th>g</th>\n",
              "      <td>5.10</td>\n",
              "      <td>2.30</td>\n",
              "      <td>11.1</td>\n",
              "      <td>130.203</td>\n",
              "    </tr>\n",
              "  </tbody>\n",
              "</table>\n",
              "</div>"
            ],
            "text/plain": [
              "     f1     f2     f3   Product\n",
              "a  2.25   6.25  100.0  1406.250\n",
              "b  4.00  20.25   25.0  2025.000\n",
              "c  2.50   5.20    8.0   104.000\n",
              "d  4.50   5.80    4.8   125.280\n",
              "e  4.00   6.30   70.0  1764.000\n",
              "f  4.10   6.40    9.0   236.160\n",
              "g  5.10   2.30   11.1   130.203"
            ]
          },
          "execution_count": 8,
          "metadata": {},
          "output_type": "execute_result"
        }
      ],
      "source": [
        "# product라는 이름의 새로운 필드를 만들고 f1, f2, f3의 값을 곱해서 채우기\n",
        "df = df.assign(Product=lambda x: (x['f1'] * x['f2'] * x['f3']))\n",
        "\n",
        "df"
      ]
    },
    {
      "cell_type": "code",
      "execution_count": null,
      "metadata": {},
      "outputs": [],
      "source": []
    }
  ],
  "metadata": {
    "colab": {
      "provenance": []
    },
    "kernelspec": {
      "display_name": "Python 3",
      "name": "python3"
    },
    "language_info": {
      "codemirror_mode": {
        "name": "ipython",
        "version": 3
      },
      "file_extension": ".py",
      "mimetype": "text/x-python",
      "name": "python",
      "nbconvert_exporter": "python",
      "pygments_lexer": "ipython3",
      "version": "3.10.12"
    }
  },
  "nbformat": 4,
  "nbformat_minor": 0
}
